{
 "cells": [
  {
   "cell_type": "markdown",
   "metadata": {},
   "source": [
    "# 0.0 Imports Dependencies"
   ]
  },
  {
   "cell_type": "code",
   "execution_count": 4,
   "metadata": {},
   "outputs": [],
   "source": [
    "from transformers import AutoTokenizer, AutoModelForSequenceClassification # conver string to sequence of numbers | \n",
    "import torch # extract sequence results \n",
    "import requests # requests from sites \n",
    "from bs4 import BeautifulSoup # extract data \n",
    "import re # creage regex functions\n",
    "\n",
    "#import pandas as pd # structure data\n",
    "#import numpy as np # data transformation "
   ]
  },
  {
   "cell_type": "markdown",
   "metadata": {},
   "source": [
    "# 1.0. Instantiate Model"
   ]
  },
  {
   "cell_type": "code",
   "execution_count": 3,
   "metadata": {},
   "outputs": [
    {
     "name": "stderr",
     "output_type": "stream",
     "text": [
      "Downloading: 100%|██████████| 39.0/39.0 [00:00<00:00, 11.6kB/s]\n",
      "Downloading: 100%|██████████| 953/953 [00:00<00:00, 622kB/s]\n",
      "Downloading: 100%|██████████| 851k/851k [00:00<00:00, 1.13MB/s] \n",
      "Downloading: 100%|██████████| 112/112 [00:00<00:00, 72.3kB/s]\n",
      "Downloading: 100%|██████████| 638M/638M [00:32<00:00, 20.7MB/s] \n"
     ]
    }
   ],
   "source": [
    "tokenizer = AutoTokenizer.from_pretrained(\"nlptown/bert-base-multilingual-uncased-sentiment\")\n",
    "\n",
    "model = AutoModelForSequenceClassification.from_pretrained(\"nlptown/bert-base-multilingual-uncased-sentiment\")"
   ]
  },
  {
   "cell_type": "markdown",
   "metadata": {},
   "source": [
    "# 2.0. Encode and Calculate Sentiment"
   ]
  },
  {
   "cell_type": "markdown",
   "metadata": {},
   "source": [
    "# 3.0. Collect Reviews"
   ]
  },
  {
   "cell_type": "markdown",
   "metadata": {},
   "source": [
    "# 4.0. Load Reviews into DataFrame and Score"
   ]
  }
 ],
 "metadata": {
  "kernelspec": {
   "display_name": "Python 3.9.12 ('Sentiment_Bert')",
   "language": "python",
   "name": "python3"
  },
  "language_info": {
   "codemirror_mode": {
    "name": "ipython",
    "version": 3
   },
   "file_extension": ".py",
   "mimetype": "text/x-python",
   "name": "python",
   "nbconvert_exporter": "python",
   "pygments_lexer": "ipython3",
   "version": "3.9.12"
  },
  "orig_nbformat": 4,
  "vscode": {
   "interpreter": {
    "hash": "0140ea1e0ee98b3d9157b3f076fd54263507762ba27572e4e8c8d9878709be63"
   }
  }
 },
 "nbformat": 4,
 "nbformat_minor": 2
}
